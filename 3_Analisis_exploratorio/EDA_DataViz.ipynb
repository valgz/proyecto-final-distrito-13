{
  "nbformat": 4,
  "nbformat_minor": 0,
  "metadata": {
    "colab": {
      "provenance": []
    },
    "kernelspec": {
      "name": "python3",
      "display_name": "Python 3"
    },
    "language_info": {
      "name": "python"
    }
  },
  "cells": [
    {
      "cell_type": "code",
      "execution_count": null,
      "metadata": {
        "id": "Yxb50yhJEXQw"
      },
      "outputs": [],
      "source": [
        "import pandas as pd\n",
        "import numpy as np\n",
        "from scipy.stats import norm\n",
        "from scipy import stats\n",
        "\n",
        "import matplotlib.pyplot as plt\n",
        "import seaborn as sns"
      ]
    },
    {
      "cell_type": "code",
      "source": [
        "pd.options.display.float_format = '{:.2f}'.format\n",
        "pd.set_option('max_columns', None)"
      ],
      "metadata": {
        "id": "ZvHGq9a5GUP0"
      },
      "execution_count": null,
      "outputs": []
    },
    {
      "cell_type": "markdown",
      "source": [
        "#EDA"
      ],
      "metadata": {
        "id": "4pMYJppTW-lP"
      }
    },
    {
      "cell_type": "markdown",
      "source": [
        "Carga del dataset Original:"
      ],
      "metadata": {
        "id": "92kzn4Hfji9f"
      }
    },
    {
      "cell_type": "code",
      "source": [
        "df_original = pd.read_csv('/content/drive/MyDrive/PF Data KC-Glovo/Versiones de CSV/airbnb-original.csv', sep=';')"
      ],
      "metadata": {
        "id": "-6NkPdITSykG"
      },
      "execution_count": null,
      "outputs": []
    },
    {
      "cell_type": "code",
      "source": [
        "df_original.sample(5)"
      ],
      "metadata": {
        "id": "Gb4fbr-jTFxS"
      },
      "execution_count": null,
      "outputs": []
    },
    {
      "cell_type": "code",
      "source": [
        "df_original.shape"
      ],
      "metadata": {
        "id": "bGd7F-74mCmI"
      },
      "execution_count": null,
      "outputs": []
    },
    {
      "cell_type": "markdown",
      "source": [
        "Carga del dataset final:"
      ],
      "metadata": {
        "id": "GxVkt049jlpp"
      }
    },
    {
      "cell_type": "code",
      "source": [
        "df = pd.read_csv('/content/drive/MyDrive/PF Data KC-Glovo/final3_airbnb_cleansed.csv')"
      ],
      "metadata": {
        "id": "U7fdT_Q2F4un"
      },
      "execution_count": null,
      "outputs": []
    },
    {
      "cell_type": "code",
      "source": [
        "df.shape"
      ],
      "metadata": {
        "id": "UmNDXY0xmewe"
      },
      "execution_count": null,
      "outputs": []
    },
    {
      "cell_type": "code",
      "source": [
        "df.head()"
      ],
      "metadata": {
        "id": "cC0iISTK5TMH"
      },
      "execution_count": null,
      "outputs": []
    },
    {
      "cell_type": "markdown",
      "source": [
        "Outliers: Dado que los valores atípicos se definen como valores que son más de 1,5 veces el IQR por debajo del primer cuartil o por encima del tercer cuartil, podemos removerlos con el siguiente código."
      ],
      "metadata": {
        "id": "g0WPyDyxjpbz"
      }
    },
    {
      "cell_type": "code",
      "source": [
        "#Remover outliers de Precio después de inspección:\n",
        "Q1 = df.Price.quantile(0.25)\n",
        "Q3 = df.Price.quantile(0.75)\n",
        "IQR = Q3 - Q1\n",
        "df = df[(df.Price >= Q1 - 1.5*IQR) & (df.Price <= Q3 + 1.5*IQR)]"
      ],
      "metadata": {
        "id": "JNHUpVhKk3OK"
      },
      "execution_count": null,
      "outputs": []
    },
    {
      "cell_type": "code",
      "source": [
        "#Para Cleaning_Fee\n",
        "Q1 = df.Cleaning_Fee.quantile(0.25)\n",
        "Q3 = df.Cleaning_Fee.quantile(0.75)\n",
        "IQR = Q3 - Q1\n",
        "df = df[(df.Cleaning_Fee >= Q1 - 1.5*IQR) & (df.Cleaning_Fee <= Q3 + 1.5*IQR)]\n",
        "\n",
        "#Para Security_Deposit\n",
        "Q1 = df.Security_Deposit.quantile(0.25)\n",
        "Q3 = df.Security_Deposit.quantile(0.75)\n",
        "IQR = Q3 - Q1\n",
        "df = df[(df.Security_Deposit >= Q1 - 1.5*IQR) & (df.Security_Deposit <= Q3 + 1.5*IQR)]"
      ],
      "metadata": {
        "id": "eZ5McFHGQQVb"
      },
      "execution_count": null,
      "outputs": []
    },
    {
      "cell_type": "markdown",
      "source": [
        "Adición de la columna Total_Cost como la suma de las variables: Cleaning Fee, Security_Deposit y Precio (sin outliers)."
      ],
      "metadata": {
        "id": "gVr1rX5r6-Yb"
      }
    },
    {
      "cell_type": "code",
      "source": [
        "df = df.assign(Total_Cost = lambda x: x['Price'] + x['Cleaning_Fee'] + x['Security_Deposit'])"
      ],
      "metadata": {
        "id": "1jIgq9j8u2p0"
      },
      "execution_count": null,
      "outputs": []
    },
    {
      "cell_type": "code",
      "source": [
        "df.describe().T"
      ],
      "metadata": {
        "id": "737oRRy7GDVm"
      },
      "execution_count": null,
      "outputs": []
    },
    {
      "cell_type": "code",
      "source": [
        "columns = df.columns\n",
        "columns"
      ],
      "metadata": {
        "id": "LZINTvYHYGrY"
      },
      "execution_count": null,
      "outputs": []
    },
    {
      "cell_type": "code",
      "source": [
        "df.shape"
      ],
      "metadata": {
        "id": "mQMHvSmxm35q"
      },
      "execution_count": null,
      "outputs": []
    },
    {
      "cell_type": "markdown",
      "source": [
        "Análisis visual de outliers:"
      ],
      "metadata": {
        "id": "fjqLkFxlbKG5"
      }
    },
    {
      "cell_type": "code",
      "source": [
        "fig, axs = plt.subplots(2,3, figsize = (10,5))\n",
        "\n",
        "plt1 = sns.boxplot(df['Host_Response_Rate'], ax = axs[0,0])\n",
        "plt2 = sns.boxplot(df['Host_Total_Listings_Count'], ax = axs[0,1])\n",
        "plt3 = sns.boxplot(df['Accommodates'], ax = axs[0,2])\n",
        "plt1 = sns.boxplot(df['Bathrooms'], ax = axs[1,0])\n",
        "plt2 = sns.boxplot(df['Bedrooms'], ax = axs[1,1])\n",
        "plt3 = sns.boxplot(df['Beds'], ax = axs[1,2])\n",
        "\n",
        "plt.tight_layout()\n",
        "plt.show()"
      ],
      "metadata": {
        "id": "bNY9nwrQXvmv"
      },
      "execution_count": null,
      "outputs": []
    },
    {
      "cell_type": "code",
      "source": [
        "fig, axs = plt.subplots(2,3, figsize = (10,5))\n",
        "\n",
        "plt1 = sns.boxplot(df['Price'], ax = axs[0,0])\n",
        "plt2 = sns.boxplot(df['Weekly_Price'], ax = axs[0,1])\n",
        "plt3 = sns.boxplot(df['Monthly_Price'], ax = axs[0,2])\n",
        "plt1 = sns.boxplot(df['Cleaning_Fee'], ax = axs[1,0])\n",
        "plt2 = sns.boxplot(df['Security_Deposit'], ax = axs[1,1])\n",
        "plt3 = sns.boxplot(df['Extra_People'], ax = axs[1,2])\n",
        "\n",
        "plt.tight_layout()\n",
        "plt.show()"
      ],
      "metadata": {
        "id": "_GFDZ1ZcYyDU"
      },
      "execution_count": null,
      "outputs": []
    },
    {
      "cell_type": "code",
      "source": [
        "fig, axs = plt.subplots(2,3, figsize = (10,5))\n",
        "\n",
        "plt1 = sns.boxplot(df['Minimum_Nights'], ax = axs[0,0])\n",
        "plt2 = sns.boxplot(df['Maximum_Nights'], ax = axs[0,1])\n",
        "plt3 = sns.boxplot(df['Number_of_Reviews'], ax = axs[0,2])\n",
        "plt1 = sns.boxplot(df['Review_Scores_Rating'], ax = axs[1,0])\n",
        "plt2 = sns.boxplot(df['Guests_Included'], ax = axs[1,1])\n",
        "plt3 = sns.boxplot(df['Total_Cost'], ax = axs[1,2])\n",
        "\n",
        "plt.tight_layout()\n",
        "plt.show()\n",
        "plt.tight_layout()\n",
        "plt.show()"
      ],
      "metadata": {
        "id": "9cj6xtnXhFek"
      },
      "execution_count": null,
      "outputs": []
    },
    {
      "cell_type": "markdown",
      "source": [
        "Correción de valores atípicos que surgieron durante el tercer EDA y la visualización:"
      ],
      "metadata": {
        "id": "uE2rY67EWyQa"
      }
    },
    {
      "cell_type": "code",
      "source": [
        "#df.loc[df[\"Host_Total_Listings_Count\"] == 0, \"Host_Total_Listings_Count\"] = 1"
      ],
      "metadata": {
        "id": "NhYEX-RTO2Um"
      },
      "execution_count": null,
      "outputs": []
    },
    {
      "cell_type": "code",
      "source": [
        "#df.loc[df[\"Minimum_Nights\"] == 1125, \"Minimum_Nights\"] = 1"
      ],
      "metadata": {
        "id": "yMG5B7TfRw9o"
      },
      "execution_count": null,
      "outputs": []
    },
    {
      "cell_type": "code",
      "source": [
        "#df.loc[df[\"Maximum_Nights\"] >= 90, \"Maximum_Nights\"] = 90"
      ],
      "metadata": {
        "id": "P-0p_WB7R58c"
      },
      "execution_count": null,
      "outputs": []
    },
    {
      "cell_type": "code",
      "source": [
        "#df.loc[df[\"Minimum_Nights\"] >= 90, \"Minimum_Nights\"] = 90"
      ],
      "metadata": {
        "id": "F5_NSmJ4TUda"
      },
      "execution_count": null,
      "outputs": []
    },
    {
      "cell_type": "code",
      "source": [
        "#df.loc[df[\"Extra_People\"] >= 20, \"Extra_People\"] = 1"
      ],
      "metadata": {
        "id": "ErCNJjDFUHEu"
      },
      "execution_count": null,
      "outputs": []
    },
    {
      "cell_type": "markdown",
      "source": [
        "##Análisis Univariado"
      ],
      "metadata": {
        "id": "Rg4kHhnWYhXi"
      }
    },
    {
      "cell_type": "markdown",
      "source": [
        "###Variable: **Precio**"
      ],
      "metadata": {
        "id": "yAD9mNf7Y_pf"
      }
    },
    {
      "cell_type": "markdown",
      "source": [
        "Descripción de la variable:"
      ],
      "metadata": {
        "id": "r6OQnBJ9Opb6"
      }
    },
    {
      "cell_type": "code",
      "source": [
        "df['Price'].describe()"
      ],
      "metadata": {
        "id": "ssxZWXUbNHw1"
      },
      "execution_count": null,
      "outputs": []
    },
    {
      "cell_type": "markdown",
      "source": [
        "**Asimetría** (grado de simetría de una distribución): \n",
        "\n",
        "Con outliers: 4.09056\n",
        "\n",
        "Sin outliers: 0.85602\n",
        "\n",
        "**Curtósis** (concentración de una distribución alrededor de la media): \n",
        "\n",
        "Con outliers: 29.987226298891287\n",
        "\n",
        "Sin outliers: 0.22138\n",
        "\n",
        "Explicación: Unos nos valores bajos de asimetría y curtósis sugieren que la distribución se aproxima a la normal, lo que puede ayudar a mejorar los resultados de determinados modelos estadísticos."
      ],
      "metadata": {
        "id": "ISBhSzZ_Otef"
      }
    },
    {
      "cell_type": "code",
      "source": [
        "#Asimetría:\n",
        "df['Price'].skew()"
      ],
      "metadata": {
        "id": "Zom5OWrFzu83"
      },
      "execution_count": null,
      "outputs": []
    },
    {
      "cell_type": "code",
      "source": [
        "#Curtósis:\n",
        "df['Price'].kurt()"
      ],
      "metadata": {
        "id": "--7h_LfGOUj1"
      },
      "execution_count": null,
      "outputs": []
    },
    {
      "cell_type": "markdown",
      "source": [
        "**Boxplot de la variable:**"
      ],
      "metadata": {
        "id": "ysVrAKKF8XXN"
      }
    },
    {
      "cell_type": "code",
      "source": [
        "#Size\n",
        "plt.figure(figsize=(10, 8))\n",
        "\n",
        "#Boxplot\n",
        "sns.boxplot(x=df['Price'], showfliers=False)\n",
        "\n",
        "#Grid\n",
        "plt.grid(True, color='gray', linestyle='--', linewidth=0.5)\n",
        "\n",
        "#Show the plot\n",
        "plt.show()"
      ],
      "metadata": {
        "id": "jnCgYCMWYlpg"
      },
      "execution_count": null,
      "outputs": []
    },
    {
      "cell_type": "markdown",
      "source": [
        "**Histograma con medidas centrales:**"
      ],
      "metadata": {
        "id": "amziFVVN8ucz"
      }
    },
    {
      "cell_type": "code",
      "source": [
        "#Tamaño de la figura\n",
        "plt.figure(figsize=(10, 8))\n",
        "\n",
        "#Histograma\n",
        "sns.histplot(df['Price'], color='orange')\n",
        "\n",
        "#Media:\n",
        "mean_value = df['Price'].mean()\n",
        "median_value = df['Price'].median()\n",
        "\n",
        "#Etiquetas:\n",
        "plt.title('Histogram of Property Prices')\n",
        "plt.xlabel('Price')\n",
        "plt.ylabel('Frequency')\n",
        "\n",
        "#Líneas media/mediana\n",
        "plt.axvline(mean_value, color='red', label='Mean')\n",
        "plt.axvline(median_value, color='blue', linestyle='--', label='Median')\n",
        "plt.legend(loc='best')\n",
        "\n",
        "#Grid:\n",
        "plt.grid(True, color='gray', linestyle='--', linewidth=0.5)\n",
        "\n",
        "#Show\n",
        "plt.show()"
      ],
      "metadata": {
        "id": "sQi3ZguoZH2w"
      },
      "execution_count": null,
      "outputs": []
    },
    {
      "cell_type": "markdown",
      "source": [
        "Anotaciones sobre el comportamiento de la distribución:\n",
        "Antes de remover los ouliers el histograma mostraba una distribución asimétrica de cola derecha, es decir, tiene asimetría positiva (power law). Posteriormente la distribución mejoró, pero sigue presentando asimetría."
      ],
      "metadata": {
        "id": "0Ie0UDt6Znrf"
      }
    },
    {
      "cell_type": "markdown",
      "source": [
        "Evaluación de la variable para tratar de ajustarla a una distribución normal:"
      ],
      "metadata": {
        "id": "0kZ3NCm-drno"
      }
    },
    {
      "cell_type": "markdown",
      "source": [
        "**Histograma y distribución nomal:**"
      ],
      "metadata": {
        "id": "WhkKvWLc_L6d"
      }
    },
    {
      "cell_type": "code",
      "source": [
        "#Tamaño de la figura\n",
        "plt.figure(figsize=(8, 6))\n",
        "\n",
        "sns.distplot(df['Price'], fit = norm);\n",
        "fig = plt.figure()"
      ],
      "metadata": {
        "id": "YmNP8yRfdq9u"
      },
      "execution_count": null,
      "outputs": []
    },
    {
      "cell_type": "markdown",
      "source": [
        "Explicación: El gráfico muestra la distribución de los valores de la columna \"Precio\", representada por un histograma. La curva de distribución normal se superpone al histograma, mostrando hasta qué punto los datos se ajustan a una distribución normal. \n",
        "\n",
        "Interpretación: Dado que el histograma y la curva no son similares, parecería que los datos de la columna \"Precio\" no se aproximan o no están bien descritos por una distribución normal."
      ],
      "metadata": {
        "id": "iWCtfsTa9896"
      }
    },
    {
      "cell_type": "markdown",
      "source": [
        "**Gráfico Q-Q:**"
      ],
      "metadata": {
        "id": "huLUFGhGA-5U"
      }
    },
    {
      "cell_type": "code",
      "source": [
        "#Tamaño de la figura\n",
        "plt.figure(figsize=(8, 6))\n",
        "q_q_graph = stats.probplot(df['Price'], plot = plt)"
      ],
      "metadata": {
        "id": "M7XoS3nA99_Q"
      },
      "execution_count": null,
      "outputs": []
    },
    {
      "cell_type": "markdown",
      "source": [
        "Explicación: Un gráfico Q-Q es una representación gráfica de la diferencia entre la distribución de una variable y una distribución normal teórica. Si los puntos se aproximan a una línea de 45 grados, indica que la distribución de la variable se aproxima a una distribución normal. Si los puntos se desvían significativamente de esta línea, indica que la distribución no es normal y puede estar sesgada, tener colas gruesas o tener una forma diferente.\n",
        "\n",
        "Interpretación: En nuestro caso el gráfico compara la variable Precio con la distribución nomal teórica. Podemos ver que en la mayoría de la recta se ajusta pero no totalmente lo que sugeriría que nuestros datos no se ajustan completamente a una distribución normal."
      ],
      "metadata": {
        "id": "MHyqyP08BCJk"
      }
    },
    {
      "cell_type": "markdown",
      "source": [
        "**Transformación logarítmica:**"
      ],
      "metadata": {
        "id": "QskluHq3DUZ3"
      }
    },
    {
      "cell_type": "markdown",
      "source": [
        "Para tratar de ajustar mejor los datos a la distribución normal, puede usarse una transformación de la variable a escala logarítmica:"
      ],
      "metadata": {
        "id": "gph_UI5heV3W"
      }
    },
    {
      "cell_type": "code",
      "source": [
        "# Transformación de los datos a log:\n",
        "df['Price'] = np.log(df['Price'])"
      ],
      "metadata": {
        "id": "QJV5F1RPeOaN"
      },
      "execution_count": null,
      "outputs": []
    },
    {
      "cell_type": "markdown",
      "source": [
        "Revisamos nuevamente si los datos se ajustan mejor a una distribución nomal:"
      ],
      "metadata": {
        "id": "NL3hGPpGD1gF"
      }
    },
    {
      "cell_type": "code",
      "source": [
        "#Histograma\n",
        "plt.figure(figsize=(8, 6))\n",
        "sns.distplot(df['Price'], fit = norm);\n",
        "fig = plt.figure()"
      ],
      "metadata": {
        "id": "ex_X7_6QeYYV"
      },
      "execution_count": null,
      "outputs": []
    },
    {
      "cell_type": "code",
      "source": [
        "#Q-Q\n",
        "plt.figure(figsize=(8, 6))\n",
        "q_q_graph_1 = stats.probplot(df['Price'], plot = plt)"
      ],
      "metadata": {
        "id": "hMhLhurWEVnC"
      },
      "execution_count": null,
      "outputs": []
    },
    {
      "cell_type": "markdown",
      "source": [
        "Las gráficas muestran que con esta transformación, los datos se ajustan un poco mejor a la distribución normal. Podemos comprobar si esto es así calculanndo la asimetría y curtósis con esta transformación:"
      ],
      "metadata": {
        "id": "Zy-EbxxPEaxv"
      }
    },
    {
      "cell_type": "code",
      "source": [
        "asimetria_log = df['Price'].skew()\n",
        "curtosis_log = df['Price'].kurt()"
      ],
      "metadata": {
        "id": "1lm0ieSiFB4m"
      },
      "execution_count": null,
      "outputs": []
    },
    {
      "cell_type": "markdown",
      "source": [
        "**Asimetría:** -0.5472541811408114\n",
        "\n",
        "**Curtosis:** -0.2718092694788905\n",
        "\n",
        "Interpretación:\n",
        "\n",
        "Podemos ver que con datos de la variable transformados a escala logarítmica, la asimetría es de -0,547, lo que indica una distribución ligeramente inclinada hacia la izquierda. Por otra parte, la curtósis es de -0,272, lo que indicaría que las cola de la distribución es relativamente delgada en comparación con una distribución normal (pues la curtósis de una distribución normal es cero)."
      ],
      "metadata": {
        "id": "D-8xyxqAGjhr"
      }
    },
    {
      "cell_type": "markdown",
      "source": [
        "###Conclusiones del análisis univariante de la variable:\n",
        "\n",
        "Removiendo los outlier de la variable Precio, el ajuste de la distribución mejoró significativamente. Por otra parte, si bien la transformación logarímica ajustó un poco más la distribución a una normal, la diferencia no es demasiada comparada con la mejora de la distribución de la variable sin outliers. En consecuencia, el modelo puede entrenarse con con o sin la transformación."
      ],
      "metadata": {
        "id": "Lm-r_kJwHC72"
      }
    },
    {
      "cell_type": "markdown",
      "source": [
        "##Análisis Multivariante:"
      ],
      "metadata": {
        "id": "2JmpfakpYpSz"
      }
    },
    {
      "cell_type": "markdown",
      "source": [
        "Análisis de correlación (Pearson):"
      ],
      "metadata": {
        "id": "09tLSm7RWKCR"
      }
    },
    {
      "cell_type": "code",
      "source": [
        "#Matriz de correlación para todas las variables\n",
        "corr = df.corr()\n",
        "corr"
      ],
      "metadata": {
        "id": "6rBVbmZFW4mv"
      },
      "execution_count": null,
      "outputs": []
    },
    {
      "cell_type": "markdown",
      "source": [
        "Heatmap de la matriz de correlación:"
      ],
      "metadata": {
        "id": "HOffpIzGZOwg"
      }
    },
    {
      "cell_type": "code",
      "source": [
        "# Tamaño del heatmap\n",
        "fig, ax = plt.subplots(figsize=(25,35))\n",
        "\n",
        "# Heatmap\n",
        "sns.heatmap(df.corr(), annot=True, cmap='crest', ax=ax, linewidth=.5)\n",
        "\n",
        "# Muestra el mapa\n",
        "plt.show()"
      ],
      "metadata": {
        "id": "Kb5PtXqoZVP3"
      },
      "execution_count": null,
      "outputs": []
    },
    {
      "cell_type": "code",
      "source": [
        "#Correlación de precio con todas las variables\n",
        "corr[['Price']].sort_values(by = 'Price',ascending = False)"
      ],
      "metadata": {
        "id": "X18hQCxacqu7"
      },
      "execution_count": null,
      "outputs": []
    },
    {
      "cell_type": "code",
      "source": [
        "#Visualización de precio con todas las variables\n",
        "corr[['Price']].sort_values(by = 'Price',ascending = False)\\\n",
        ".style.background_gradient(cmap='crest')"
      ],
      "metadata": {
        "id": "WdF0ePfSWVna"
      },
      "execution_count": null,
      "outputs": []
    },
    {
      "cell_type": "markdown",
      "source": [
        "Visualización solo de las variables cuantitativas:"
      ],
      "metadata": {
        "id": "F07BvvATFUHr"
      }
    },
    {
      "cell_type": "code",
      "source": [
        "variables_cuantitativas = [\n",
        "       'Host_Response_Rate', 'Price', 'Host_Total_Listings_Count', 'Accommodates', 'Bathrooms',\n",
        "       'Bedrooms', 'Beds', 'Weekly_Price', 'Monthly_Price', 'Security_Deposit', 'Cleaning_Fee', 'Guests_Included',\n",
        "       'Extra_People', 'Minimum_Nights', 'Maximum_Nights', 'Number_of_Reviews',\n",
        "       'Review_Scores_Rating']\n",
        "\n",
        "corr_cuantitativas = df[variables_cuantitativas].corr()"
      ],
      "metadata": {
        "id": "hBfu71cDXQN8"
      },
      "execution_count": null,
      "outputs": []
    },
    {
      "cell_type": "code",
      "source": [
        "corr_cuantitativas[['Price']].sort_values(by = 'Price',ascending = False)\\\n",
        ".style.background_gradient(cmap='crest')"
      ],
      "metadata": {
        "id": "wsTAzaZgYryJ"
      },
      "execution_count": null,
      "outputs": []
    },
    {
      "cell_type": "markdown",
      "source": [
        "Diagrama de dispersión (Scatter Plot) de las seis variables con mayor coeficiente de correlación:"
      ],
      "metadata": {
        "id": "ixXO40Bds574"
      }
    },
    {
      "cell_type": "code",
      "source": [
        "# Scatter plot:\n",
        "\n",
        "sns.set(palette='magma')\n",
        "cols = ['Price','Accommodates', 'Bedrooms', 'Cleaning_Fee', 'Beds', 'Guests_Included', 'Bathrooms', 'Security_Deposit']\n",
        "sns.pairplot(df[cols], height = 2)\n",
        "plt.show()"
      ],
      "metadata": {
        "id": "2fqBBpBHtznM"
      },
      "execution_count": null,
      "outputs": []
    },
    {
      "cell_type": "markdown",
      "source": [
        "###Conclusiones: \n",
        "\n",
        "Después de las visualizaciones realizadas, concluimos que las variables con mayor índice de correlación, para la variable Precio, que podrían resultar útiles para entrenar el modelo fueron: \n",
        "\n",
        "\n",
        "| Variable | Coeficiente de correlación |\n",
        "| --- | --- |\n",
        "| Accommodates | 0.575018 | \n",
        "| Bedrooms | 0.520768 |\n",
        "| Cleaning_Fee | 0.509962 |\n",
        "| Beds| 0.480162 |\n",
        "| Guests_Included | 0.367700 |\n",
        "| Bathrooms |0.337257|\n",
        "| Security_Deposit | 0.289546 |"
      ],
      "metadata": {
        "id": "G4c74tejF2PQ"
      }
    },
    {
      "cell_type": "markdown",
      "source": [
        "#Análisis usando el Costo Total ( variable Total_Cost):"
      ],
      "metadata": {
        "id": "hm5_YHerv9MH"
      }
    },
    {
      "cell_type": "markdown",
      "source": [
        "Variable **Total_Cost**"
      ],
      "metadata": {
        "id": "f5fcOgnwwSr8"
      }
    },
    {
      "cell_type": "code",
      "source": [
        "df['Total_Cost'].describe()"
      ],
      "metadata": {
        "id": "S0o2tHG_wO9r"
      },
      "execution_count": null,
      "outputs": []
    },
    {
      "cell_type": "code",
      "source": [
        "#Asimetría:\n",
        "df['Total_Cost'].skew()"
      ],
      "metadata": {
        "id": "h0xb4NxrJi61"
      },
      "execution_count": null,
      "outputs": []
    },
    {
      "cell_type": "code",
      "source": [
        "#Curtósis:\n",
        "df['Total_Cost'].kurt()"
      ],
      "metadata": {
        "id": "1GujjokVJlkk"
      },
      "execution_count": null,
      "outputs": []
    },
    {
      "cell_type": "markdown",
      "source": [
        "**Asimetría:** 1.54407\n",
        "\n",
        "Sin outliers: 0.92926\n",
        "\n",
        "**Curtosis:** 3.56980\n",
        "\n",
        "Sin outliers: -0.09001\n",
        "\n",
        "Interpretación: Vemos que para esta variable los valores son altos y esto puede deberse a los valores a partir de los cuales se compone la variable. Podríamos ver si removiendo los ouliers mejora o bien, realizando una transformación logarítmica."
      ],
      "metadata": {
        "id": "VlJcxr1Aw5kP"
      }
    },
    {
      "cell_type": "markdown",
      "source": [
        "**Boxplot:**"
      ],
      "metadata": {
        "id": "NiPDCoQRxNjq"
      }
    },
    {
      "cell_type": "code",
      "source": [
        "#Size\n",
        "plt.figure(figsize=(10, 8))\n",
        "\n",
        "#Boxplot\n",
        "sns.boxplot(x=df['Total_Cost'], showfliers=False)\n",
        "\n",
        "#Grid\n",
        "plt.grid(True, color='gray', linestyle='--', linewidth=0.5)\n",
        "\n",
        "#Show the plot\n",
        "plt.show()"
      ],
      "metadata": {
        "id": "2SQe_kZtxBCI"
      },
      "execution_count": null,
      "outputs": []
    },
    {
      "cell_type": "markdown",
      "source": [
        "Histograma:"
      ],
      "metadata": {
        "id": "i22DA-YxxPxY"
      }
    },
    {
      "cell_type": "code",
      "source": [
        "#Tamaño de la figura\n",
        "plt.figure(figsize=(10, 8))\n",
        "\n",
        "#Histograma\n",
        "sns.histplot(df['Total_Cost'], color='orange')\n",
        "\n",
        "#Media:\n",
        "mean_value = df['Total_Cost'].mean()\n",
        "median_value = df['Total_Cost'].median()\n",
        "\n",
        "#Etiquetas:\n",
        "plt.title('Histogram of Property Prices')\n",
        "plt.xlabel('Total_Cost')\n",
        "plt.ylabel('Frequency')\n",
        "\n",
        "#Líneas media/mediana\n",
        "plt.axvline(mean_value, color='red', label='Mean')\n",
        "plt.axvline(median_value, color='blue', linestyle='--', label='Median')\n",
        "plt.legend(loc='best')\n",
        "\n",
        "#Grid:\n",
        "plt.grid(True, color='gray', linestyle='--', linewidth=0.5)\n",
        "\n",
        "#Show\n",
        "plt.show()"
      ],
      "metadata": {
        "id": "8H94RtSFxRMf"
      },
      "execution_count": null,
      "outputs": []
    },
    {
      "cell_type": "markdown",
      "source": [
        "Interpretación: Con el histograma podemos ver que, la distribución no es normal por lo que se intentará el ajuste primero realizando la transformación logarítmica."
      ],
      "metadata": {
        "id": "tLj1THQxLssd"
      }
    },
    {
      "cell_type": "markdown",
      "source": [
        "Transformación logarítmica:"
      ],
      "metadata": {
        "id": "WNsfCWR5xwGH"
      }
    },
    {
      "cell_type": "code",
      "source": [
        "df['Total_Cost'] = np.log(df['Total_Cost'])"
      ],
      "metadata": {
        "id": "1cqYal3dxvXi"
      },
      "execution_count": null,
      "outputs": []
    },
    {
      "cell_type": "markdown",
      "source": [
        "Evaluamos si con la transformación los datos se ajustan mejor a la distribución:"
      ],
      "metadata": {
        "id": "g-DN_IUVMLBd"
      }
    },
    {
      "cell_type": "code",
      "source": [
        "#Gráficas\n",
        "sns.distplot(df['Total_Cost'], fit = norm);\n",
        "fig = plt.figure()\n",
        "q_q_3 = stats.probplot(df['Total_Cost'], plot = plt)"
      ],
      "metadata": {
        "id": "Dal-Vh79xqAi"
      },
      "execution_count": null,
      "outputs": []
    },
    {
      "cell_type": "markdown",
      "source": [
        "Dado que los datos no se ajustan, removeremos los outliers de esta variable. Primero intentaremos con los outliers de las variables independientes que la componen. Esto se realizará en las primeras celdas para recalcular la variable Total_Cost."
      ],
      "metadata": {
        "id": "jv15Rer0MUAx"
      }
    },
    {
      "cell_type": "markdown",
      "source": [
        "\n",
        "###Conclusiones de esta variable:\n",
        "\n",
        "Podemos observar que la asimetría y la curtosis disminuyeron retirando los outliers, sin embargo, las visualizaciones no lo muestran. Esto puede deberse a que hay algún error en el código de los gráficos. Trataremos de mejorar estos, pero los datos de asimetría y la curtosis sugieren que podríamos ajustar los datos a una distribución nomal."
      ],
      "metadata": {
        "id": "l_yDxWJmT1TX"
      }
    },
    {
      "cell_type": "markdown",
      "source": [
        "Análisis de Correlación:"
      ],
      "metadata": {
        "id": "T2_it_iPyPHS"
      }
    },
    {
      "cell_type": "code",
      "source": [
        "#Todas las variables\n",
        "corr_1 = df.corr()"
      ],
      "metadata": {
        "id": "oKzpuqFQyOfb"
      },
      "execution_count": null,
      "outputs": []
    },
    {
      "cell_type": "code",
      "source": [
        "corr_1"
      ],
      "metadata": {
        "id": "E5HEM7-pytxQ"
      },
      "execution_count": null,
      "outputs": []
    },
    {
      "cell_type": "code",
      "source": [
        "# Tamaño del heatmap\n",
        "fig, ax = plt.subplots(figsize=(25,35))\n",
        "\n",
        "# Heatmap\n",
        "sns.heatmap(df.corr(), annot=True, cmap='crest', ax=ax, linewidth=.5)\n",
        "\n",
        "# Muestra el mapa\n",
        "plt.show()"
      ],
      "metadata": {
        "id": "dfyG15rlyWg9"
      },
      "execution_count": null,
      "outputs": []
    },
    {
      "cell_type": "code",
      "source": [
        "#Correlación de precio con todas las variables\n",
        "corr_1[['Total_Cost']].sort_values(by = 'Total_Cost',ascending = False)"
      ],
      "metadata": {
        "id": "PYgwpPEozVij"
      },
      "execution_count": null,
      "outputs": []
    },
    {
      "cell_type": "code",
      "source": [
        "#Visualización de precio con todas las variables\n",
        "corr_1[['Total_Cost']].sort_values(by = 'Total_Cost',ascending = False)\\\n",
        ".style.background_gradient(cmap='crest')"
      ],
      "metadata": {
        "id": "4mjnCWyVy-_k"
      },
      "execution_count": null,
      "outputs": []
    },
    {
      "cell_type": "markdown",
      "source": [
        "Matriz de correlación excluyendo 'Price', 'Claning_Fee' y 'Security_Deposit':"
      ],
      "metadata": {
        "id": "CRjNbOTbz4gS"
      }
    },
    {
      "cell_type": "code",
      "source": [
        "total = [\n",
        "       'Host_Response_Rate', 'Host_Total_Listings_Count', 'Accommodates', 'Bathrooms',\n",
        "       'Bedrooms', 'Beds', 'Weekly_Price', 'Monthly_Price', 'Guests_Included',\n",
        "       'Extra_People', 'Minimum_Nights', 'Maximum_Nights', 'Number_of_Reviews', 'Total_Cost',\n",
        "       'Review_Scores_Rating']\n",
        "\n",
        "corr_total = df[total].corr()"
      ],
      "metadata": {
        "id": "98TqUdolz29l"
      },
      "execution_count": null,
      "outputs": []
    },
    {
      "cell_type": "code",
      "source": [
        "corr_total[['Total_Cost']].sort_values(by = 'Total_Cost',ascending = False)"
      ],
      "metadata": {
        "id": "qijidNFlzuoh"
      },
      "execution_count": null,
      "outputs": []
    },
    {
      "cell_type": "code",
      "source": [
        "corr_total[['Total_Cost']].sort_values(by = 'Total_Cost',ascending = False)\\\n",
        ".style.background_gradient(cmap='crest')"
      ],
      "metadata": {
        "id": "xJBBuCnZ0m7X"
      },
      "execution_count": null,
      "outputs": []
    },
    {
      "cell_type": "markdown",
      "source": [
        "###Conclusiones:\n",
        "\n",
        "Después de analizar la información, se decidió emplear la variable Precio para entrenar al modelo. No obstante, estas visualizaciones resultaron útiles para identificar los problemas que podrían causar los ouliers en las variables que componen Precio_Total."
      ],
      "metadata": {
        "id": "1FeyAd5OHzY2"
      }
    },
    {
      "cell_type": "markdown",
      "source": [
        "##Análisis de las variables categóricas más relevantes para nuestro proyecto:"
      ],
      "metadata": {
        "id": "8VtJcX9WlJuz"
      }
    },
    {
      "cell_type": "markdown",
      "source": [
        "Variable **Property_Type**"
      ],
      "metadata": {
        "id": "bWuGOoQsVN4n"
      }
    },
    {
      "cell_type": "markdown",
      "source": [
        "Gráfica de frecuencias:"
      ],
      "metadata": {
        "id": "stQAlv0kaJtw"
      }
    },
    {
      "cell_type": "code",
      "source": [
        "plt.figure(figsize=(8, 6))\n",
        "sns.countplot(x=df['Property_Type'], palette='magma')\n",
        "\n",
        "\n",
        "plt.xticks(rotation=45, ha='right')\n",
        "plt.xlabel('Property_Type')\n",
        "plt.ylabel('Count')\n",
        "\n",
        "plt.show()"
      ],
      "metadata": {
        "id": "jLfEh9TDVTJ3"
      },
      "execution_count": null,
      "outputs": []
    },
    {
      "cell_type": "markdown",
      "source": [
        "Relación entre Price y Preperty_Type:"
      ],
      "metadata": {
        "id": "pnW3MIYma78p"
      }
    },
    {
      "cell_type": "code",
      "source": [
        "plt.figure(figsize=(10, 6))\n",
        "\n",
        "#Pointplot\n",
        "sns.pointplot(x='Property_Type', y='Price', data=df)\n",
        "\n",
        "# Labels\n",
        "plt.xticks(rotation=45, ha='right')\n",
        "plt.title('Average Price by Property Type')\n",
        "plt.xlabel('Property Type')\n",
        "plt.ylabel('Price')\n",
        "\n",
        "#Show\n",
        "plt.show()"
      ],
      "metadata": {
        "id": "AiCjCNCObUz1"
      },
      "execution_count": null,
      "outputs": []
    },
    {
      "cell_type": "markdown",
      "source": [
        "Variable **Neighbourhood_Cleansed**:"
      ],
      "metadata": {
        "id": "9TU9Y2ZBI2KL"
      }
    },
    {
      "cell_type": "markdown",
      "source": [
        "Visualización de los 10 barrios más comunes:"
      ],
      "metadata": {
        "id": "yDoUgozvNUOE"
      }
    },
    {
      "cell_type": "code",
      "source": [
        "top_n = 10\n",
        "\n",
        "#Utilizamos \"value_counts()\" para contar el número de apariciones de cada valor único, y \"nlargest()\" para seleccionar los N valores principales.\n",
        "neighborhood_counts = df['Neighbourhood_Cleansed'].value_counts().nlargest(top_n)\n",
        "\n",
        "#Barplot horizontal\n",
        "plt.barh(neighborhood_counts.index, neighborhood_counts.values)\n",
        "\n",
        "#Labels\n",
        "plt.title(f\"Top {top_n} Neighborhoods\")\n",
        "plt.xlabel(\"Count\")\n",
        "plt.ylabel(\"Neighborhood\")\n",
        "\n",
        "#Show plot\n",
        "plt.show()"
      ],
      "metadata": {
        "id": "UNqgacsiJHL_"
      },
      "execution_count": null,
      "outputs": []
    },
    {
      "cell_type": "markdown",
      "source": [
        "Distribución de precios para los 10 barrios más comunes:"
      ],
      "metadata": {
        "id": "EcxKtikoNIhK"
      }
    },
    {
      "cell_type": "code",
      "source": [
        "#Tamaño de la figura\n",
        "plt.figure(figsize=(10, 8))\n",
        "\n",
        "#Se modifica un poco para que .index devuelva las etiquetas de índice (es decir, los valores únicos).\n",
        "neighborhood_counts = df['Neighbourhood_Cleansed'].value_counts().nlargest(top_n).index\n",
        "\n",
        "sns.boxplot(data=df[df['Neighbourhood_Cleansed'].isin(neighborhood_counts)], \n",
        "            x='Neighbourhood_Cleansed', y='Price', showfliers=False)\n",
        "#Labels\n",
        "plt.xticks(rotation=45, ha='right')\n",
        "plt.title(f\"Price distribution for top {top_n} neighborhoods\")\n",
        "plt.xlabel(\"Neighborhood\")\n",
        "plt.ylabel(\"Price\")\n",
        "\n",
        "#Show plot\n",
        "plt.show()"
      ],
      "metadata": {
        "id": "jUh9gGtoJFp0"
      },
      "execution_count": null,
      "outputs": []
    },
    {
      "cell_type": "markdown",
      "source": [
        "Variable **Cancelation_Policy**"
      ],
      "metadata": {
        "id": "Or3pd6ykp5sO"
      }
    },
    {
      "cell_type": "markdown",
      "source": [
        "Gráfica de frecuencias:"
      ],
      "metadata": {
        "id": "TOxGnwEZIqzn"
      }
    },
    {
      "cell_type": "code",
      "source": [
        "plt.figure(figsize=(8, 6))\n",
        "sns.countplot(x=df['Cancellation_Policy'], palette='magma')\n",
        "\n",
        "plt.xlabel('Cancellation Policy')\n",
        "plt.ylabel('Count')\n",
        "\n",
        "plt.show()"
      ],
      "metadata": {
        "id": "xwRNgmevAoem"
      },
      "execution_count": null,
      "outputs": []
    },
    {
      "cell_type": "markdown",
      "source": [
        "Relación entre la política de cancelación y el precio:"
      ],
      "metadata": {
        "id": "bof_8cQzIe3j"
      }
    },
    {
      "cell_type": "code",
      "source": [
        "#Tamaño de la figura\n",
        "plt.figure(figsize=(10, 8))\n",
        "\n",
        "# Plot the histogram using seaborn\n",
        "sns.histplot(x='Price', hue='Cancellation_Policy', data=df, palette=\"magma\")\n",
        "\n",
        "# Add labels to the x-axis and y-axis\n",
        "plt.xlabel('Price')\n",
        "plt.ylabel('Density')\n",
        "\n",
        "#Grid:\n",
        "plt.grid(True, color='gray', linestyle='--', linewidth=0.5)\n",
        "\n",
        "# Show the plot\n",
        "plt.show()"
      ],
      "metadata": {
        "id": "4Kv0WQZSZ4Sc"
      },
      "execution_count": null,
      "outputs": []
    },
    {
      "cell_type": "markdown",
      "source": [
        "#Control de la infromación:\n",
        "\n",
        "| Dataset | Filas | Columnas | % de registros en cada transformación|\n",
        "| --- | --- | --- | --- |\n",
        "| Dataset original | 14780 | 89 | 100% |\n",
        "| Dataset final | 13244 | 36 | 89,60% |\n",
        "| Dataset removiendo ouliers de Precio | 12581 | 36 | 85,13% \n",
        "| Dataset removiendo ouliers de Cleaning_Fee & Security_Deposit | 12171 | 36 | 82,35%"
      ],
      "metadata": {
        "id": "yrZlNNBWmKxC"
      }
    }
  ]
}